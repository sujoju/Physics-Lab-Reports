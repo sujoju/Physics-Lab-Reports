{
  "nbformat": 4,
  "nbformat_minor": 0,
  "metadata": {
    "colab": {
      "name": "Quantum Optics",
      "provenance": []
    },
    "kernelspec": {
      "name": "python3",
      "display_name": "Python 3"
    },
    "language_info": {
      "name": "python"
    }
  },
  "cells": [
    {
      "cell_type": "code",
      "metadata": {
        "id": "KaCtRHYMM-Fk"
      },
      "source": [
        "import numpy as np\n",
        "import matplotlib.pyplot as plt\n",
        "import pandas as pd\n",
        "from google.colab import files\n",
        "import csv"
      ],
      "execution_count": null,
      "outputs": []
    },
    {
      "cell_type": "code",
      "metadata": {
        "colab": {
          "resources": {
            "http://localhost:8080/nbextensions/google.colab/files.js": {
              "data": "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",
              "ok": true,
              "headers": [
                [
                  "content-type",
                  "application/javascript"
                ]
              ],
              "status": 200,
              "status_text": ""
            }
          },
          "base_uri": "https://localhost:8080/",
          "height": 396
        },
        "id": "MDwhAzDYUQcZ",
        "outputId": "9d584b4f-9ad4-47e9-e10f-345c3b6833cd"
      },
      "source": [
        "uploaded = files.upload()"
      ],
      "execution_count": null,
      "outputs": [
        {
          "output_type": "display_data",
          "data": {
            "text/html": [
              "\n",
              "     <input type=\"file\" id=\"files-fe617a28-2dc0-468a-bd93-634cfee8ff88\" name=\"files[]\" multiple disabled\n",
              "        style=\"border:none\" />\n",
              "     <output id=\"result-fe617a28-2dc0-468a-bd93-634cfee8ff88\">\n",
              "      Upload widget is only available when the cell has been executed in the\n",
              "      current browser session. Please rerun this cell to enable.\n",
              "      </output>\n",
              "      <script src=\"/nbextensions/google.colab/files.js\"></script> "
            ],
            "text/plain": [
              "<IPython.core.display.HTML object>"
            ]
          },
          "metadata": {}
        },
        {
          "output_type": "stream",
          "name": "stdout",
          "text": [
            "Saving Nov_9_2021_1-45PM_t_res_g2.csv to Nov_9_2021_1-45PM_t_res_g2.csv\n",
            "Saving Nov_9_2021_2-17PM_t_res_g2.csv to Nov_9_2021_2-17PM_t_res_g2.csv\n",
            "Saving Nov_9_2021_2-43PM_t_res_g2.csv to Nov_9_2021_2-43PM_t_res_g2.csv\n",
            "Saving Nov_9_2021_2-54PM_t_res_g2.csv to Nov_9_2021_2-54PM_t_res_g2.csv\n",
            "Saving Nov_9_2021_3-07PM_t_res_g2.csv to Nov_9_2021_3-07PM_t_res_g2.csv\n",
            "Saving Nov_9_2021_3-18PM_t_res_g2.csv to Nov_9_2021_3-18PM_t_res_g2.csv\n",
            "Saving Nov_9_2021_3-36PM_t_res_g2.csv to Nov_9_2021_3-36PM_t_res_g2.csv\n",
            "Saving Nov_9_2021_3-47PM_t_res_g2.csv to Nov_9_2021_3-47PM_t_res_g2.csv\n",
            "Saving Nov_9_2021_4-01PM_t_res_g2.csv to Nov_9_2021_4-01PM_t_res_g2.csv\n",
            "Saving Nov_9_2021_4-14PM_t_res_g2.csv to Nov_9_2021_4-14PM_t_res_g2.csv\n"
          ]
        }
      ]
    },
    {
      "cell_type": "code",
      "metadata": {
        "id": "tU27jKxPNDPz",
        "colab": {
          "base_uri": "https://localhost:8080/"
        },
        "outputId": "a93d3393-e969-4046-d38f-ce59f8dfab1d"
      },
      "source": [
        "with open(\"Nov_9_2021_1-45PM_t_res_g2.csv\", 'r') as csvfile:\n",
        "  data1 = np.array(list(csv.reader(csvfile, delimiter=\",\")))\n",
        "with open(\"Nov_9_2021_2-17PM_t_res_g2.csv\", 'r') as csvfile:\n",
        "  data2 = np.array(list(csv.reader(csvfile, delimiter=\",\")))\n",
        "with open(\"Nov_9_2021_2-43PM_t_res_g2.csv\", 'r') as csvfile:\n",
        "  data3 = np.array(list(csv.reader(csvfile, delimiter=\",\")))\n",
        "with open(\"Nov_9_2021_2-54PM_t_res_g2.csv\", 'r') as csvfile:\n",
        "  data4 = np.array(list(csv.reader(csvfile, delimiter=\",\")))\n",
        "with open(\"Nov_9_2021_3-07PM_t_res_g2.csv\", 'r') as csvfile:\n",
        "  data5 = np.array(list(csv.reader(csvfile, delimiter=\",\")))\n",
        "with open(\"Nov_9_2021_3-18PM_t_res_g2.csv\", 'r') as csvfile:\n",
        "  data6 = np.array(list(csv.reader(csvfile, delimiter=\",\")))\n",
        "with open(\"Nov_9_2021_3-36PM_t_res_g2.csv\", 'r') as csvfile:\n",
        "  data7 = np.array(list(csv.reader(csvfile, delimiter=\",\")))\n",
        "with open(\"Nov_9_2021_3-47PM_t_res_g2.csv\", 'r') as csvfile:\n",
        "  data8 = np.array(list(csv.reader(csvfile, delimiter=\",\")))\n",
        "with open(\"Nov_9_2021_4-01PM_t_res_g2.csv\", 'r') as csvfile:\n",
        "  data9 = np.array(list(csv.reader(csvfile, delimiter=\",\")))\n",
        "with open(\"Nov_9_2021_4-14PM_t_res_g2.csv\", 'r') as csvfile:\n",
        "  data10 = np.array(list(csv.reader(csvfile, delimiter=\",\")))"
      ],
      "execution_count": null,
      "outputs": [
        {
          "output_type": "stream",
          "name": "stderr",
          "text": [
            "/usr/local/lib/python3.7/dist-packages/ipykernel_launcher.py:2: VisibleDeprecationWarning: Creating an ndarray from ragged nested sequences (which is a list-or-tuple of lists-or-tuples-or ndarrays with different lengths or shapes) is deprecated. If you meant to do this, you must specify 'dtype=object' when creating the ndarray\n",
            "  \n",
            "/usr/local/lib/python3.7/dist-packages/ipykernel_launcher.py:4: VisibleDeprecationWarning: Creating an ndarray from ragged nested sequences (which is a list-or-tuple of lists-or-tuples-or ndarrays with different lengths or shapes) is deprecated. If you meant to do this, you must specify 'dtype=object' when creating the ndarray\n",
            "  after removing the cwd from sys.path.\n",
            "/usr/local/lib/python3.7/dist-packages/ipykernel_launcher.py:6: VisibleDeprecationWarning: Creating an ndarray from ragged nested sequences (which is a list-or-tuple of lists-or-tuples-or ndarrays with different lengths or shapes) is deprecated. If you meant to do this, you must specify 'dtype=object' when creating the ndarray\n",
            "  \n",
            "/usr/local/lib/python3.7/dist-packages/ipykernel_launcher.py:8: VisibleDeprecationWarning: Creating an ndarray from ragged nested sequences (which is a list-or-tuple of lists-or-tuples-or ndarrays with different lengths or shapes) is deprecated. If you meant to do this, you must specify 'dtype=object' when creating the ndarray\n",
            "  \n",
            "/usr/local/lib/python3.7/dist-packages/ipykernel_launcher.py:10: VisibleDeprecationWarning: Creating an ndarray from ragged nested sequences (which is a list-or-tuple of lists-or-tuples-or ndarrays with different lengths or shapes) is deprecated. If you meant to do this, you must specify 'dtype=object' when creating the ndarray\n",
            "  # Remove the CWD from sys.path while we load stuff.\n",
            "/usr/local/lib/python3.7/dist-packages/ipykernel_launcher.py:12: VisibleDeprecationWarning: Creating an ndarray from ragged nested sequences (which is a list-or-tuple of lists-or-tuples-or ndarrays with different lengths or shapes) is deprecated. If you meant to do this, you must specify 'dtype=object' when creating the ndarray\n",
            "  if sys.path[0] == '':\n",
            "/usr/local/lib/python3.7/dist-packages/ipykernel_launcher.py:14: VisibleDeprecationWarning: Creating an ndarray from ragged nested sequences (which is a list-or-tuple of lists-or-tuples-or ndarrays with different lengths or shapes) is deprecated. If you meant to do this, you must specify 'dtype=object' when creating the ndarray\n",
            "  \n",
            "/usr/local/lib/python3.7/dist-packages/ipykernel_launcher.py:16: VisibleDeprecationWarning: Creating an ndarray from ragged nested sequences (which is a list-or-tuple of lists-or-tuples-or ndarrays with different lengths or shapes) is deprecated. If you meant to do this, you must specify 'dtype=object' when creating the ndarray\n",
            "  app.launch_new_instance()\n",
            "/usr/local/lib/python3.7/dist-packages/ipykernel_launcher.py:18: VisibleDeprecationWarning: Creating an ndarray from ragged nested sequences (which is a list-or-tuple of lists-or-tuples-or ndarrays with different lengths or shapes) is deprecated. If you meant to do this, you must specify 'dtype=object' when creating the ndarray\n",
            "/usr/local/lib/python3.7/dist-packages/ipykernel_launcher.py:20: VisibleDeprecationWarning: Creating an ndarray from ragged nested sequences (which is a list-or-tuple of lists-or-tuples-or ndarrays with different lengths or shapes) is deprecated. If you meant to do this, you must specify 'dtype=object' when creating the ndarray\n"
          ]
        }
      ]
    },
    {
      "cell_type": "code",
      "metadata": {
        "colab": {
          "base_uri": "https://localhost:8080/"
        },
        "id": "XkGrwnJufyqZ",
        "outputId": "14567b79-9a1f-4f5a-967e-4ce57dbb2f27"
      },
      "source": [
        "data1.shape == data2.shape == data3.shape == data4.shape == data5.shape == data6.shape == data7.shape == data8.shape == data9.shape == data10.shape"
      ],
      "execution_count": null,
      "outputs": [
        {
          "output_type": "execute_result",
          "data": {
            "text/plain": [
              "True"
            ]
          },
          "metadata": {},
          "execution_count": 4
        }
      ]
    },
    {
      "cell_type": "code",
      "metadata": {
        "id": "94R_o94ifLJ3"
      },
      "source": [
        "from datetime import datetime\n",
        "dt1 = datetime.strptime('Nov_9_2021_1-45PM', '%b_%d_%Y_%I-%M%p')\n",
        "dt2 = datetime.strptime('Nov_9_2021_2-17PM', '%b_%d_%Y_%I-%M%p')\n",
        "dt3 = datetime.strptime('Nov_9_2021_2-43PM', '%b_%d_%Y_%I-%M%p')\n",
        "dt4 = datetime.strptime('Nov_9_2021_2-54PM', '%b_%d_%Y_%I-%M%p')\n",
        "dt5 = datetime.strptime('Nov_9_2021_3-07PM', '%b_%d_%Y_%I-%M%p')\n",
        "dt6 = datetime.strptime('Nov_9_2021_3-18PM', '%b_%d_%Y_%I-%M%p')\n",
        "dt7 = datetime.strptime('Nov_9_2021_3-36PM', '%b_%d_%Y_%I-%M%p')\n",
        "dt8 = datetime.strptime('Nov_9_2021_3-47PM', '%b_%d_%Y_%I-%M%p')\n",
        "dt9 = datetime.strptime('Nov_9_2021_4-01PM', '%b_%d_%Y_%I-%M%p')\n",
        "dt10 = datetime.strptime('Nov_9_2021_4-14PM', '%b_%d_%Y_%I-%M%p')"
      ],
      "execution_count": null,
      "outputs": []
    },
    {
      "cell_type": "code",
      "metadata": {
        "id": "MaKuOJpcfz3U"
      },
      "source": [
        "def duplicate(datetimeob):\n",
        "  x = []\n",
        "  for i in range(0, 10, 1):\n",
        "    x.append(datetimeob)\n",
        "  return x\n",
        "times = np.concatenate((duplicate(dt1), duplicate(dt2), duplicate(dt3), duplicate(dt4), duplicate(dt5), duplicate(dt6), duplicate(dt7), duplicate(dt8), duplicate(dt9), duplicate(dt10)))\n",
        "runindex = np.concatenate((duplicate(1), duplicate(2), duplicate(3), duplicate(4), duplicate(5), duplicate(6), duplicate(7), duplicate(8), duplicate(9), duplicate(10)))"
      ],
      "execution_count": null,
      "outputs": []
    },
    {
      "cell_type": "code",
      "metadata": {
        "id": "aQDp9CEuV4m1"
      },
      "source": [
        "combined = np.concatenate((data1[9:], data2[9:], data3[9:], data4[9:], data5[9:], data6[9:], data7[9:], data8[9:], data9[9:], data10[9:]))"
      ],
      "execution_count": null,
      "outputs": []
    },
    {
      "cell_type": "code",
      "metadata": {
        "colab": {
          "base_uri": "https://localhost:8080/",
          "height": 423
        },
        "id": "SxtBWO-KZnhP",
        "outputId": "5feeb470-b7cc-4d4e-d75d-2520c66931e0"
      },
      "source": [
        "df = pd.DataFrame(list(map(np.ravel, combined)), columns=['A', 'B', 'A~', 'B~', 'AB', 'ABB~', 'AB~', 'BB~', 'TAB', 'TAB~', 'TBB~', 'junk', 'a'])\n",
        "df.drop(columns = 'a')\n",
        "df"
      ],
      "execution_count": null,
      "outputs": [
        {
          "output_type": "execute_result",
          "data": {
            "text/html": [
              "<div>\n",
              "<style scoped>\n",
              "    .dataframe tbody tr th:only-of-type {\n",
              "        vertical-align: middle;\n",
              "    }\n",
              "\n",
              "    .dataframe tbody tr th {\n",
              "        vertical-align: top;\n",
              "    }\n",
              "\n",
              "    .dataframe thead th {\n",
              "        text-align: right;\n",
              "    }\n",
              "</style>\n",
              "<table border=\"1\" class=\"dataframe\">\n",
              "  <thead>\n",
              "    <tr style=\"text-align: right;\">\n",
              "      <th></th>\n",
              "      <th>A</th>\n",
              "      <th>B</th>\n",
              "      <th>A~</th>\n",
              "      <th>B~</th>\n",
              "      <th>AB</th>\n",
              "      <th>ABB~</th>\n",
              "      <th>AB~</th>\n",
              "      <th>BB~</th>\n",
              "      <th>TAB</th>\n",
              "      <th>TAB~</th>\n",
              "      <th>TBB~</th>\n",
              "      <th>junk</th>\n",
              "      <th>a</th>\n",
              "    </tr>\n",
              "  </thead>\n",
              "  <tbody>\n",
              "    <tr>\n",
              "      <th>0</th>\n",
              "      <td>1528535.000</td>\n",
              "      <td>\\t783931.000</td>\n",
              "      <td>\\t180035.000</td>\n",
              "      <td>\\t1222301.000</td>\n",
              "      <td>\\t4707.000</td>\n",
              "      <td>\\t4902.000</td>\n",
              "      <td>\\t1.000</td>\n",
              "      <td>\\t80.000</td>\n",
              "      <td>\\t235.691</td>\n",
              "      <td>\\t0.032</td>\n",
              "      <td>\\t5.009</td>\n",
              "      <td>\\t0.000</td>\n",
              "      <td></td>\n",
              "    </tr>\n",
              "    <tr>\n",
              "      <th>1</th>\n",
              "      <td>1528349.000</td>\n",
              "      <td>\\t783314.000</td>\n",
              "      <td>\\t179201.000</td>\n",
              "      <td>\\t1224215.000</td>\n",
              "      <td>\\t4863.000</td>\n",
              "      <td>\\t4975.000</td>\n",
              "      <td>\\t0.000</td>\n",
              "      <td>\\t77.000</td>\n",
              "      <td>\\t243.723</td>\n",
              "      <td>\\t0.000</td>\n",
              "      <td>\\t4.818</td>\n",
              "      <td>\\t0.000</td>\n",
              "      <td></td>\n",
              "    </tr>\n",
              "    <tr>\n",
              "      <th>2</th>\n",
              "      <td>1532386.000</td>\n",
              "      <td>\\t783246.000</td>\n",
              "      <td>\\t179457.000</td>\n",
              "      <td>\\t1225552.000</td>\n",
              "      <td>\\t4867.000</td>\n",
              "      <td>\\t4966.000</td>\n",
              "      <td>\\t1.000</td>\n",
              "      <td>\\t77.000</td>\n",
              "      <td>\\t243.302</td>\n",
              "      <td>\\t0.032</td>\n",
              "      <td>\\t4.813</td>\n",
              "      <td>\\t0.000</td>\n",
              "      <td></td>\n",
              "    </tr>\n",
              "    <tr>\n",
              "      <th>3</th>\n",
              "      <td>1530540.000</td>\n",
              "      <td>\\t783991.000</td>\n",
              "      <td>\\t178988.000</td>\n",
              "      <td>\\t1225831.000</td>\n",
              "      <td>\\t4836.000</td>\n",
              "      <td>\\t5089.000</td>\n",
              "      <td>\\t2.000</td>\n",
              "      <td>\\t72.000</td>\n",
              "      <td>\\t241.814</td>\n",
              "      <td>\\t0.064</td>\n",
              "      <td>\\t4.495</td>\n",
              "      <td>\\t0.000</td>\n",
              "      <td></td>\n",
              "    </tr>\n",
              "    <tr>\n",
              "      <th>4</th>\n",
              "      <td>1531396.000</td>\n",
              "      <td>\\t783581.000</td>\n",
              "      <td>\\t179382.000</td>\n",
              "      <td>\\t1225419.000</td>\n",
              "      <td>\\t4871.000</td>\n",
              "      <td>\\t5038.000</td>\n",
              "      <td>\\t2.000</td>\n",
              "      <td>\\t83.000</td>\n",
              "      <td>\\t243.556</td>\n",
              "      <td>\\t0.064</td>\n",
              "      <td>\\t5.186</td>\n",
              "      <td>\\t0.000</td>\n",
              "      <td></td>\n",
              "    </tr>\n",
              "    <tr>\n",
              "      <th>...</th>\n",
              "      <td>...</td>\n",
              "      <td>...</td>\n",
              "      <td>...</td>\n",
              "      <td>...</td>\n",
              "      <td>...</td>\n",
              "      <td>...</td>\n",
              "      <td>...</td>\n",
              "      <td>...</td>\n",
              "      <td>...</td>\n",
              "      <td>...</td>\n",
              "      <td>...</td>\n",
              "      <td>...</td>\n",
              "      <td>...</td>\n",
              "    </tr>\n",
              "    <tr>\n",
              "      <th>95</th>\n",
              "      <td>1558618.000</td>\n",
              "      <td>\\t811524.000</td>\n",
              "      <td>\\t192319.000</td>\n",
              "      <td>\\t1264279.000</td>\n",
              "      <td>\\t5342.000</td>\n",
              "      <td>\\t5410.000</td>\n",
              "      <td>\\t2.000</td>\n",
              "      <td>\\t92.000</td>\n",
              "      <td>\\t253.404</td>\n",
              "      <td>\\t0.061</td>\n",
              "      <td>\\t5.380</td>\n",
              "      <td>\\t0.000</td>\n",
              "      <td></td>\n",
              "    </tr>\n",
              "    <tr>\n",
              "      <th>96</th>\n",
              "      <td>1574863.000</td>\n",
              "      <td>\\t824205.000</td>\n",
              "      <td>\\t209624.000</td>\n",
              "      <td>\\t1296674.000</td>\n",
              "      <td>\\t5367.000</td>\n",
              "      <td>\\t5587.000</td>\n",
              "      <td>\\t2.000</td>\n",
              "      <td>\\t78.000</td>\n",
              "      <td>\\t248.087</td>\n",
              "      <td>\\t0.059</td>\n",
              "      <td>\\t4.379</td>\n",
              "      <td>\\t0.000</td>\n",
              "      <td></td>\n",
              "    </tr>\n",
              "    <tr>\n",
              "      <th>97</th>\n",
              "      <td>1550186.000</td>\n",
              "      <td>\\t795541.000</td>\n",
              "      <td>\\t183567.000</td>\n",
              "      <td>\\t1237986.000</td>\n",
              "      <td>\\t5355.000</td>\n",
              "      <td>\\t5425.000</td>\n",
              "      <td>\\t1.000</td>\n",
              "      <td>\\t68.000</td>\n",
              "      <td>\\t260.534</td>\n",
              "      <td>\\t0.031</td>\n",
              "      <td>\\t4.143</td>\n",
              "      <td>\\t0.000</td>\n",
              "      <td></td>\n",
              "    </tr>\n",
              "    <tr>\n",
              "      <th>98</th>\n",
              "      <td>1540536.000</td>\n",
              "      <td>\\t777842.000</td>\n",
              "      <td>\\t175901.000</td>\n",
              "      <td>\\t1216767.000</td>\n",
              "      <td>\\t5441.000</td>\n",
              "      <td>\\t5534.000</td>\n",
              "      <td>\\t3.000</td>\n",
              "      <td>\\t78.000</td>\n",
              "      <td>\\t272.437</td>\n",
              "      <td>\\t0.096</td>\n",
              "      <td>\\t4.945</td>\n",
              "      <td>\\t0.000</td>\n",
              "      <td></td>\n",
              "    </tr>\n",
              "    <tr>\n",
              "      <th>99</th>\n",
              "      <td>1540110.000</td>\n",
              "      <td>\\t775925.000</td>\n",
              "      <td>\\t174655.000</td>\n",
              "      <td>\\t1215146.000</td>\n",
              "      <td>\\t5287.000</td>\n",
              "      <td>\\t5424.000</td>\n",
              "      <td>\\t1.000</td>\n",
              "      <td>\\t68.000</td>\n",
              "      <td>\\t265.454</td>\n",
              "      <td>\\t0.032</td>\n",
              "      <td>\\t4.327</td>\n",
              "      <td>\\t0.000</td>\n",
              "      <td></td>\n",
              "    </tr>\n",
              "  </tbody>\n",
              "</table>\n",
              "<p>100 rows × 13 columns</p>\n",
              "</div>"
            ],
            "text/plain": [
              "              A             B            A~  ...     TBB~     junk a \n",
              "0   1528535.000  \\t783931.000  \\t180035.000  ...  \\t5.009  \\t0.000   \n",
              "1   1528349.000  \\t783314.000  \\t179201.000  ...  \\t4.818  \\t0.000   \n",
              "2   1532386.000  \\t783246.000  \\t179457.000  ...  \\t4.813  \\t0.000   \n",
              "3   1530540.000  \\t783991.000  \\t178988.000  ...  \\t4.495  \\t0.000   \n",
              "4   1531396.000  \\t783581.000  \\t179382.000  ...  \\t5.186  \\t0.000   \n",
              "..          ...           ...           ...  ...      ...      ... ..\n",
              "95  1558618.000  \\t811524.000  \\t192319.000  ...  \\t5.380  \\t0.000   \n",
              "96  1574863.000  \\t824205.000  \\t209624.000  ...  \\t4.379  \\t0.000   \n",
              "97  1550186.000  \\t795541.000  \\t183567.000  ...  \\t4.143  \\t0.000   \n",
              "98  1540536.000  \\t777842.000  \\t175901.000  ...  \\t4.945  \\t0.000   \n",
              "99  1540110.000  \\t775925.000  \\t174655.000  ...  \\t4.327  \\t0.000   \n",
              "\n",
              "[100 rows x 13 columns]"
            ]
          },
          "metadata": {},
          "execution_count": 8
        }
      ]
    },
    {
      "cell_type": "code",
      "metadata": {
        "id": "vqnuTdadbim5"
      },
      "source": [
        "def fn(vals):\n",
        "  xs = []\n",
        "  for value in vals:\n",
        "    if value[0:1] == '\\t':\n",
        "      newvalue = value[1:]\n",
        "    xs.append(newvalue)\n",
        "  return xs\n",
        "\n",
        "newdata = np.stack((df['A'].values, fn(df['B'].values), fn(df['A~'].values), fn(df['B~'].values), fn(df['AB'].values), fn(df['ABB~'].values), fn(df['AB~'].values), fn(df['BB~'].values), fn(df['TAB'].values), fn(df['TAB~'].values), fn(df['TBB~'].values), fn(df['junk'].values)))\n",
        "newdf = pd.DataFrame(list(map(np.ravel, np.transpose(newdata))), columns=['A', 'B', 'A~', 'B~', 'AB', 'ABB~', 'AB~', 'BB~', 'TAB', 'TAB~', 'TBB~', 'junk'])"
      ],
      "execution_count": null,
      "outputs": []
    },
    {
      "cell_type": "code",
      "metadata": {
        "id": "mIgD_ACBde0A"
      },
      "source": [
        "newdf = newdf.set_index(times)\n",
        "newdf.insert(0, 'run#', runindex)"
      ],
      "execution_count": null,
      "outputs": []
    },
    {
      "cell_type": "code",
      "metadata": {
        "colab": {
          "base_uri": "https://localhost:8080/",
          "height": 596
        },
        "id": "wAmOr_HDhpcS",
        "outputId": "0d07e5b1-59e8-47a3-a2be-85eb3158a08f"
      },
      "source": [
        "newdf"
      ],
      "execution_count": null,
      "outputs": [
        {
          "output_type": "execute_result",
          "data": {
            "text/html": [
              "<div>\n",
              "<style scoped>\n",
              "    .dataframe tbody tr th:only-of-type {\n",
              "        vertical-align: middle;\n",
              "    }\n",
              "\n",
              "    .dataframe tbody tr th {\n",
              "        vertical-align: top;\n",
              "    }\n",
              "\n",
              "    .dataframe thead th {\n",
              "        text-align: right;\n",
              "    }\n",
              "</style>\n",
              "<table border=\"1\" class=\"dataframe\">\n",
              "  <thead>\n",
              "    <tr style=\"text-align: right;\">\n",
              "      <th></th>\n",
              "      <th>run#</th>\n",
              "      <th>A</th>\n",
              "      <th>B</th>\n",
              "      <th>A~</th>\n",
              "      <th>B~</th>\n",
              "      <th>AB</th>\n",
              "      <th>ABB~</th>\n",
              "      <th>AB~</th>\n",
              "      <th>BB~</th>\n",
              "      <th>TAB</th>\n",
              "      <th>TAB~</th>\n",
              "      <th>TBB~</th>\n",
              "      <th>junk</th>\n",
              "    </tr>\n",
              "  </thead>\n",
              "  <tbody>\n",
              "    <tr>\n",
              "      <th>2021-11-09 13:45:00</th>\n",
              "      <td>1</td>\n",
              "      <td>1528535.000</td>\n",
              "      <td>783931.000</td>\n",
              "      <td>180035.000</td>\n",
              "      <td>1222301.000</td>\n",
              "      <td>4707.000</td>\n",
              "      <td>4902.000</td>\n",
              "      <td>1.000</td>\n",
              "      <td>80.000</td>\n",
              "      <td>235.691</td>\n",
              "      <td>0.032</td>\n",
              "      <td>5.009</td>\n",
              "      <td>0.000</td>\n",
              "    </tr>\n",
              "    <tr>\n",
              "      <th>2021-11-09 13:45:00</th>\n",
              "      <td>1</td>\n",
              "      <td>1528349.000</td>\n",
              "      <td>783314.000</td>\n",
              "      <td>179201.000</td>\n",
              "      <td>1224215.000</td>\n",
              "      <td>4863.000</td>\n",
              "      <td>4975.000</td>\n",
              "      <td>0.000</td>\n",
              "      <td>77.000</td>\n",
              "      <td>243.723</td>\n",
              "      <td>0.000</td>\n",
              "      <td>4.818</td>\n",
              "      <td>0.000</td>\n",
              "    </tr>\n",
              "    <tr>\n",
              "      <th>2021-11-09 13:45:00</th>\n",
              "      <td>1</td>\n",
              "      <td>1532386.000</td>\n",
              "      <td>783246.000</td>\n",
              "      <td>179457.000</td>\n",
              "      <td>1225552.000</td>\n",
              "      <td>4867.000</td>\n",
              "      <td>4966.000</td>\n",
              "      <td>1.000</td>\n",
              "      <td>77.000</td>\n",
              "      <td>243.302</td>\n",
              "      <td>0.032</td>\n",
              "      <td>4.813</td>\n",
              "      <td>0.000</td>\n",
              "    </tr>\n",
              "    <tr>\n",
              "      <th>2021-11-09 13:45:00</th>\n",
              "      <td>1</td>\n",
              "      <td>1530540.000</td>\n",
              "      <td>783991.000</td>\n",
              "      <td>178988.000</td>\n",
              "      <td>1225831.000</td>\n",
              "      <td>4836.000</td>\n",
              "      <td>5089.000</td>\n",
              "      <td>2.000</td>\n",
              "      <td>72.000</td>\n",
              "      <td>241.814</td>\n",
              "      <td>0.064</td>\n",
              "      <td>4.495</td>\n",
              "      <td>0.000</td>\n",
              "    </tr>\n",
              "    <tr>\n",
              "      <th>2021-11-09 13:45:00</th>\n",
              "      <td>1</td>\n",
              "      <td>1531396.000</td>\n",
              "      <td>783581.000</td>\n",
              "      <td>179382.000</td>\n",
              "      <td>1225419.000</td>\n",
              "      <td>4871.000</td>\n",
              "      <td>5038.000</td>\n",
              "      <td>2.000</td>\n",
              "      <td>83.000</td>\n",
              "      <td>243.556</td>\n",
              "      <td>0.064</td>\n",
              "      <td>5.186</td>\n",
              "      <td>0.000</td>\n",
              "    </tr>\n",
              "    <tr>\n",
              "      <th>...</th>\n",
              "      <td>...</td>\n",
              "      <td>...</td>\n",
              "      <td>...</td>\n",
              "      <td>...</td>\n",
              "      <td>...</td>\n",
              "      <td>...</td>\n",
              "      <td>...</td>\n",
              "      <td>...</td>\n",
              "      <td>...</td>\n",
              "      <td>...</td>\n",
              "      <td>...</td>\n",
              "      <td>...</td>\n",
              "      <td>...</td>\n",
              "    </tr>\n",
              "    <tr>\n",
              "      <th>2021-11-09 16:14:00</th>\n",
              "      <td>10</td>\n",
              "      <td>1558618.000</td>\n",
              "      <td>811524.000</td>\n",
              "      <td>192319.000</td>\n",
              "      <td>1264279.000</td>\n",
              "      <td>5342.000</td>\n",
              "      <td>5410.000</td>\n",
              "      <td>2.000</td>\n",
              "      <td>92.000</td>\n",
              "      <td>253.404</td>\n",
              "      <td>0.061</td>\n",
              "      <td>5.380</td>\n",
              "      <td>0.000</td>\n",
              "    </tr>\n",
              "    <tr>\n",
              "      <th>2021-11-09 16:14:00</th>\n",
              "      <td>10</td>\n",
              "      <td>1574863.000</td>\n",
              "      <td>824205.000</td>\n",
              "      <td>209624.000</td>\n",
              "      <td>1296674.000</td>\n",
              "      <td>5367.000</td>\n",
              "      <td>5587.000</td>\n",
              "      <td>2.000</td>\n",
              "      <td>78.000</td>\n",
              "      <td>248.087</td>\n",
              "      <td>0.059</td>\n",
              "      <td>4.379</td>\n",
              "      <td>0.000</td>\n",
              "    </tr>\n",
              "    <tr>\n",
              "      <th>2021-11-09 16:14:00</th>\n",
              "      <td>10</td>\n",
              "      <td>1550186.000</td>\n",
              "      <td>795541.000</td>\n",
              "      <td>183567.000</td>\n",
              "      <td>1237986.000</td>\n",
              "      <td>5355.000</td>\n",
              "      <td>5425.000</td>\n",
              "      <td>1.000</td>\n",
              "      <td>68.000</td>\n",
              "      <td>260.534</td>\n",
              "      <td>0.031</td>\n",
              "      <td>4.143</td>\n",
              "      <td>0.000</td>\n",
              "    </tr>\n",
              "    <tr>\n",
              "      <th>2021-11-09 16:14:00</th>\n",
              "      <td>10</td>\n",
              "      <td>1540536.000</td>\n",
              "      <td>777842.000</td>\n",
              "      <td>175901.000</td>\n",
              "      <td>1216767.000</td>\n",
              "      <td>5441.000</td>\n",
              "      <td>5534.000</td>\n",
              "      <td>3.000</td>\n",
              "      <td>78.000</td>\n",
              "      <td>272.437</td>\n",
              "      <td>0.096</td>\n",
              "      <td>4.945</td>\n",
              "      <td>0.000</td>\n",
              "    </tr>\n",
              "    <tr>\n",
              "      <th>2021-11-09 16:14:00</th>\n",
              "      <td>10</td>\n",
              "      <td>1540110.000</td>\n",
              "      <td>775925.000</td>\n",
              "      <td>174655.000</td>\n",
              "      <td>1215146.000</td>\n",
              "      <td>5287.000</td>\n",
              "      <td>5424.000</td>\n",
              "      <td>1.000</td>\n",
              "      <td>68.000</td>\n",
              "      <td>265.454</td>\n",
              "      <td>0.032</td>\n",
              "      <td>4.327</td>\n",
              "      <td>0.000</td>\n",
              "    </tr>\n",
              "  </tbody>\n",
              "</table>\n",
              "<p>100 rows × 13 columns</p>\n",
              "</div>"
            ],
            "text/plain": [
              "                     run#            A           B  ...   TAB~   TBB~   junk\n",
              "2021-11-09 13:45:00     1  1528535.000  783931.000  ...  0.032  5.009  0.000\n",
              "2021-11-09 13:45:00     1  1528349.000  783314.000  ...  0.000  4.818  0.000\n",
              "2021-11-09 13:45:00     1  1532386.000  783246.000  ...  0.032  4.813  0.000\n",
              "2021-11-09 13:45:00     1  1530540.000  783991.000  ...  0.064  4.495  0.000\n",
              "2021-11-09 13:45:00     1  1531396.000  783581.000  ...  0.064  5.186  0.000\n",
              "...                   ...          ...         ...  ...    ...    ...    ...\n",
              "2021-11-09 16:14:00    10  1558618.000  811524.000  ...  0.061  5.380  0.000\n",
              "2021-11-09 16:14:00    10  1574863.000  824205.000  ...  0.059  4.379  0.000\n",
              "2021-11-09 16:14:00    10  1550186.000  795541.000  ...  0.031  4.143  0.000\n",
              "2021-11-09 16:14:00    10  1540536.000  777842.000  ...  0.096  4.945  0.000\n",
              "2021-11-09 16:14:00    10  1540110.000  775925.000  ...  0.032  4.327  0.000\n",
              "\n",
              "[100 rows x 13 columns]"
            ]
          },
          "metadata": {},
          "execution_count": 11
        }
      ]
    },
    {
      "cell_type": "code",
      "metadata": {
        "id": "n7FbbiY0c7J_"
      },
      "source": [
        "finaldf = newdf[['run#', 'A', 'B', 'B~', 'AB', 'ABB~', 'AB~']]\n",
        "finaldf = finaldf.rename(columns={\"A\":\"A\", \"AB\":\"AB\", \"ABB~\":\"AB~\", \"AB~\":\"ABB~\"})\n",
        "finaldf['A'] = finaldf['A'].values.astype(float)\n",
        "finaldf['AB'] = finaldf['AB'].values.astype(float)\n",
        "finaldf['AB~'] = finaldf['AB~'].values.astype(float)\n",
        "finaldf['ABB~'] = finaldf['ABB~'].values.astype(float)\n",
        "finaldf['B'] = finaldf['B'].values.astype(float)\n",
        "finaldf['B~'] = finaldf['B~'].values.astype(float)\n",
        "\n",
        "g2factor = (finaldf['A'].values * finaldf['ABB~'].values) / (finaldf['AB'].values * finaldf['AB~'])\n",
        "finaldf.insert(7, 'g2', g2factor)"
      ],
      "execution_count": null,
      "outputs": []
    },
    {
      "cell_type": "code",
      "metadata": {
        "colab": {
          "base_uri": "https://localhost:8080/",
          "height": 423
        },
        "id": "_Dcp_CUdjWdc",
        "outputId": "a8ded638-f437-4e46-8260-772cecb997ed"
      },
      "source": [
        "finaldf"
      ],
      "execution_count": null,
      "outputs": [
        {
          "output_type": "execute_result",
          "data": {
            "text/html": [
              "<div>\n",
              "<style scoped>\n",
              "    .dataframe tbody tr th:only-of-type {\n",
              "        vertical-align: middle;\n",
              "    }\n",
              "\n",
              "    .dataframe tbody tr th {\n",
              "        vertical-align: top;\n",
              "    }\n",
              "\n",
              "    .dataframe thead th {\n",
              "        text-align: right;\n",
              "    }\n",
              "</style>\n",
              "<table border=\"1\" class=\"dataframe\">\n",
              "  <thead>\n",
              "    <tr style=\"text-align: right;\">\n",
              "      <th></th>\n",
              "      <th>run#</th>\n",
              "      <th>A</th>\n",
              "      <th>B</th>\n",
              "      <th>B~</th>\n",
              "      <th>AB</th>\n",
              "      <th>AB~</th>\n",
              "      <th>ABB~</th>\n",
              "      <th>g2</th>\n",
              "    </tr>\n",
              "  </thead>\n",
              "  <tbody>\n",
              "    <tr>\n",
              "      <th>2021-11-09 13:45:00</th>\n",
              "      <td>1</td>\n",
              "      <td>1528535.0</td>\n",
              "      <td>783931.0</td>\n",
              "      <td>1222301.0</td>\n",
              "      <td>4707.0</td>\n",
              "      <td>4902.0</td>\n",
              "      <td>1.0</td>\n",
              "      <td>0.066246</td>\n",
              "    </tr>\n",
              "    <tr>\n",
              "      <th>2021-11-09 13:45:00</th>\n",
              "      <td>1</td>\n",
              "      <td>1528349.0</td>\n",
              "      <td>783314.0</td>\n",
              "      <td>1224215.0</td>\n",
              "      <td>4863.0</td>\n",
              "      <td>4975.0</td>\n",
              "      <td>0.0</td>\n",
              "      <td>0.000000</td>\n",
              "    </tr>\n",
              "    <tr>\n",
              "      <th>2021-11-09 13:45:00</th>\n",
              "      <td>1</td>\n",
              "      <td>1532386.0</td>\n",
              "      <td>783246.0</td>\n",
              "      <td>1225552.0</td>\n",
              "      <td>4867.0</td>\n",
              "      <td>4966.0</td>\n",
              "      <td>1.0</td>\n",
              "      <td>0.063402</td>\n",
              "    </tr>\n",
              "    <tr>\n",
              "      <th>2021-11-09 13:45:00</th>\n",
              "      <td>1</td>\n",
              "      <td>1530540.0</td>\n",
              "      <td>783991.0</td>\n",
              "      <td>1225831.0</td>\n",
              "      <td>4836.0</td>\n",
              "      <td>5089.0</td>\n",
              "      <td>2.0</td>\n",
              "      <td>0.124382</td>\n",
              "    </tr>\n",
              "    <tr>\n",
              "      <th>2021-11-09 13:45:00</th>\n",
              "      <td>1</td>\n",
              "      <td>1531396.0</td>\n",
              "      <td>783581.0</td>\n",
              "      <td>1225419.0</td>\n",
              "      <td>4871.0</td>\n",
              "      <td>5038.0</td>\n",
              "      <td>2.0</td>\n",
              "      <td>0.124808</td>\n",
              "    </tr>\n",
              "    <tr>\n",
              "      <th>...</th>\n",
              "      <td>...</td>\n",
              "      <td>...</td>\n",
              "      <td>...</td>\n",
              "      <td>...</td>\n",
              "      <td>...</td>\n",
              "      <td>...</td>\n",
              "      <td>...</td>\n",
              "      <td>...</td>\n",
              "    </tr>\n",
              "    <tr>\n",
              "      <th>2021-11-09 16:14:00</th>\n",
              "      <td>10</td>\n",
              "      <td>1558618.0</td>\n",
              "      <td>811524.0</td>\n",
              "      <td>1264279.0</td>\n",
              "      <td>5342.0</td>\n",
              "      <td>5410.0</td>\n",
              "      <td>2.0</td>\n",
              "      <td>0.107862</td>\n",
              "    </tr>\n",
              "    <tr>\n",
              "      <th>2021-11-09 16:14:00</th>\n",
              "      <td>10</td>\n",
              "      <td>1574863.0</td>\n",
              "      <td>824205.0</td>\n",
              "      <td>1296674.0</td>\n",
              "      <td>5367.0</td>\n",
              "      <td>5587.0</td>\n",
              "      <td>2.0</td>\n",
              "      <td>0.105042</td>\n",
              "    </tr>\n",
              "    <tr>\n",
              "      <th>2021-11-09 16:14:00</th>\n",
              "      <td>10</td>\n",
              "      <td>1550186.0</td>\n",
              "      <td>795541.0</td>\n",
              "      <td>1237986.0</td>\n",
              "      <td>5355.0</td>\n",
              "      <td>5425.0</td>\n",
              "      <td>1.0</td>\n",
              "      <td>0.053361</td>\n",
              "    </tr>\n",
              "    <tr>\n",
              "      <th>2021-11-09 16:14:00</th>\n",
              "      <td>10</td>\n",
              "      <td>1540536.0</td>\n",
              "      <td>777842.0</td>\n",
              "      <td>1216767.0</td>\n",
              "      <td>5441.0</td>\n",
              "      <td>5534.0</td>\n",
              "      <td>3.0</td>\n",
              "      <td>0.153488</td>\n",
              "    </tr>\n",
              "    <tr>\n",
              "      <th>2021-11-09 16:14:00</th>\n",
              "      <td>10</td>\n",
              "      <td>1540110.0</td>\n",
              "      <td>775925.0</td>\n",
              "      <td>1215146.0</td>\n",
              "      <td>5287.0</td>\n",
              "      <td>5424.0</td>\n",
              "      <td>1.0</td>\n",
              "      <td>0.053706</td>\n",
              "    </tr>\n",
              "  </tbody>\n",
              "</table>\n",
              "<p>100 rows × 8 columns</p>\n",
              "</div>"
            ],
            "text/plain": [
              "                     run#          A         B  ...     AB~  ABB~        g2\n",
              "2021-11-09 13:45:00     1  1528535.0  783931.0  ...  4902.0   1.0  0.066246\n",
              "2021-11-09 13:45:00     1  1528349.0  783314.0  ...  4975.0   0.0  0.000000\n",
              "2021-11-09 13:45:00     1  1532386.0  783246.0  ...  4966.0   1.0  0.063402\n",
              "2021-11-09 13:45:00     1  1530540.0  783991.0  ...  5089.0   2.0  0.124382\n",
              "2021-11-09 13:45:00     1  1531396.0  783581.0  ...  5038.0   2.0  0.124808\n",
              "...                   ...        ...       ...  ...     ...   ...       ...\n",
              "2021-11-09 16:14:00    10  1558618.0  811524.0  ...  5410.0   2.0  0.107862\n",
              "2021-11-09 16:14:00    10  1574863.0  824205.0  ...  5587.0   2.0  0.105042\n",
              "2021-11-09 16:14:00    10  1550186.0  795541.0  ...  5425.0   1.0  0.053361\n",
              "2021-11-09 16:14:00    10  1540536.0  777842.0  ...  5534.0   3.0  0.153488\n",
              "2021-11-09 16:14:00    10  1540110.0  775925.0  ...  5424.0   1.0  0.053706\n",
              "\n",
              "[100 rows x 8 columns]"
            ]
          },
          "metadata": {},
          "execution_count": 13
        }
      ]
    },
    {
      "cell_type": "code",
      "metadata": {
        "id": "tQckUrwI2HTV"
      },
      "source": [
        "T = 60 #seconds\n",
        "t = 4e-9 #seconds\n",
        "NpABp = 2 * finaldf['A'].values*finaldf['B~'].values*t / T\n",
        "NpAB = 2 * finaldf['A'].values*finaldf['B'].values*t / T\n",
        "NpABBp = (finaldf['AB'].values*finaldf['B~'].values*t/T) + (finaldf['AB~'].values*finaldf['B'].values*t/T)"
      ],
      "execution_count": null,
      "outputs": []
    },
    {
      "cell_type": "code",
      "metadata": {
        "id": "80gwQhV-25Sm"
      },
      "source": [
        "finaldf.insert(8, 'corrAB~', finaldf['AB~'].values - NpABp)\n",
        "finaldf.insert(9, 'corrAB', finaldf['AB'].values - NpAB)\n",
        "finaldf.insert(10, 'corrABB~', finaldf['ABB~'].values - NpABBp)"
      ],
      "execution_count": null,
      "outputs": []
    },
    {
      "cell_type": "code",
      "metadata": {
        "colab": {
          "base_uri": "https://localhost:8080/",
          "height": 423
        },
        "id": "emwc0PI08_pr",
        "outputId": "9fc0b471-5679-4bd7-9e4a-15134c4d1120"
      },
      "source": [
        "finaldf"
      ],
      "execution_count": null,
      "outputs": [
        {
          "output_type": "execute_result",
          "data": {
            "text/html": [
              "<div>\n",
              "<style scoped>\n",
              "    .dataframe tbody tr th:only-of-type {\n",
              "        vertical-align: middle;\n",
              "    }\n",
              "\n",
              "    .dataframe tbody tr th {\n",
              "        vertical-align: top;\n",
              "    }\n",
              "\n",
              "    .dataframe thead th {\n",
              "        text-align: right;\n",
              "    }\n",
              "</style>\n",
              "<table border=\"1\" class=\"dataframe\">\n",
              "  <thead>\n",
              "    <tr style=\"text-align: right;\">\n",
              "      <th></th>\n",
              "      <th>run#</th>\n",
              "      <th>A</th>\n",
              "      <th>B</th>\n",
              "      <th>B~</th>\n",
              "      <th>AB</th>\n",
              "      <th>AB~</th>\n",
              "      <th>ABB~</th>\n",
              "      <th>g2</th>\n",
              "      <th>corrAB~</th>\n",
              "      <th>corrAB</th>\n",
              "      <th>corrABB~</th>\n",
              "    </tr>\n",
              "  </thead>\n",
              "  <tbody>\n",
              "    <tr>\n",
              "      <th>2021-11-09 13:45:00</th>\n",
              "      <td>1</td>\n",
              "      <td>1528535.0</td>\n",
              "      <td>783931.0</td>\n",
              "      <td>1222301.0</td>\n",
              "      <td>4707.0</td>\n",
              "      <td>4902.0</td>\n",
              "      <td>1.0</td>\n",
              "      <td>0.066246</td>\n",
              "      <td>4652.889352</td>\n",
              "      <td>4547.231204</td>\n",
              "      <td>0.360253</td>\n",
              "    </tr>\n",
              "    <tr>\n",
              "      <th>2021-11-09 13:45:00</th>\n",
              "      <td>1</td>\n",
              "      <td>1528349.0</td>\n",
              "      <td>783314.0</td>\n",
              "      <td>1224215.0</td>\n",
              "      <td>4863.0</td>\n",
              "      <td>4975.0</td>\n",
              "      <td>0.0</td>\n",
              "      <td>0.000000</td>\n",
              "      <td>4725.529631</td>\n",
              "      <td>4703.376378</td>\n",
              "      <td>-0.656690</td>\n",
              "    </tr>\n",
              "    <tr>\n",
              "      <th>2021-11-09 13:45:00</th>\n",
              "      <td>1</td>\n",
              "      <td>1532386.0</td>\n",
              "      <td>783246.0</td>\n",
              "      <td>1225552.0</td>\n",
              "      <td>4867.0</td>\n",
              "      <td>4966.0</td>\n",
              "      <td>1.0</td>\n",
              "      <td>0.063402</td>\n",
              "      <td>4715.597503</td>\n",
              "      <td>4706.968639</td>\n",
              "      <td>0.343043</td>\n",
              "    </tr>\n",
              "    <tr>\n",
              "      <th>2021-11-09 13:45:00</th>\n",
              "      <td>1</td>\n",
              "      <td>1530540.0</td>\n",
              "      <td>783991.0</td>\n",
              "      <td>1225831.0</td>\n",
              "      <td>4836.0</td>\n",
              "      <td>5089.0</td>\n",
              "      <td>2.0</td>\n",
              "      <td>0.124382</td>\n",
              "      <td>4838.842216</td>\n",
              "      <td>4676.009389</td>\n",
              "      <td>1.338810</td>\n",
              "    </tr>\n",
              "    <tr>\n",
              "      <th>2021-11-09 13:45:00</th>\n",
              "      <td>1</td>\n",
              "      <td>1531396.0</td>\n",
              "      <td>783581.0</td>\n",
              "      <td>1225419.0</td>\n",
              "      <td>4871.0</td>\n",
              "      <td>5038.0</td>\n",
              "      <td>2.0</td>\n",
              "      <td>0.124808</td>\n",
              "      <td>4787.786433</td>\n",
              "      <td>4711.003625</td>\n",
              "      <td>1.338887</td>\n",
              "    </tr>\n",
              "    <tr>\n",
              "      <th>...</th>\n",
              "      <td>...</td>\n",
              "      <td>...</td>\n",
              "      <td>...</td>\n",
              "      <td>...</td>\n",
              "      <td>...</td>\n",
              "      <td>...</td>\n",
              "      <td>...</td>\n",
              "      <td>...</td>\n",
              "      <td>...</td>\n",
              "      <td>...</td>\n",
              "      <td>...</td>\n",
              "    </tr>\n",
              "    <tr>\n",
              "      <th>2021-11-09 16:14:00</th>\n",
              "      <td>10</td>\n",
              "      <td>1558618.0</td>\n",
              "      <td>811524.0</td>\n",
              "      <td>1264279.0</td>\n",
              "      <td>5342.0</td>\n",
              "      <td>5410.0</td>\n",
              "      <td>2.0</td>\n",
              "      <td>0.107862</td>\n",
              "      <td>5147.262932</td>\n",
              "      <td>5173.352545</td>\n",
              "      <td>1.257058</td>\n",
              "    </tr>\n",
              "    <tr>\n",
              "      <th>2021-11-09 16:14:00</th>\n",
              "      <td>10</td>\n",
              "      <td>1574863.0</td>\n",
              "      <td>824205.0</td>\n",
              "      <td>1296674.0</td>\n",
              "      <td>5367.0</td>\n",
              "      <td>5587.0</td>\n",
              "      <td>2.0</td>\n",
              "      <td>0.105042</td>\n",
              "      <td>5314.722146</td>\n",
              "      <td>5193.932005</td>\n",
              "      <td>1.229061</td>\n",
              "    </tr>\n",
              "    <tr>\n",
              "      <th>2021-11-09 16:14:00</th>\n",
              "      <td>10</td>\n",
              "      <td>1550186.0</td>\n",
              "      <td>795541.0</td>\n",
              "      <td>1237986.0</td>\n",
              "      <td>5355.0</td>\n",
              "      <td>5425.0</td>\n",
              "      <td>1.0</td>\n",
              "      <td>0.053361</td>\n",
              "      <td>5169.118858</td>\n",
              "      <td>5190.568464</td>\n",
              "      <td>0.270318</td>\n",
              "    </tr>\n",
              "    <tr>\n",
              "      <th>2021-11-09 16:14:00</th>\n",
              "      <td>10</td>\n",
              "      <td>1540536.0</td>\n",
              "      <td>777842.0</td>\n",
              "      <td>1216767.0</td>\n",
              "      <td>5441.0</td>\n",
              "      <td>5534.0</td>\n",
              "      <td>3.0</td>\n",
              "      <td>0.153488</td>\n",
              "      <td>5284.070218</td>\n",
              "      <td>5281.227520</td>\n",
              "      <td>2.271666</td>\n",
              "    </tr>\n",
              "    <tr>\n",
              "      <th>2021-11-09 16:14:00</th>\n",
              "      <td>10</td>\n",
              "      <td>1540110.0</td>\n",
              "      <td>775925.0</td>\n",
              "      <td>1215146.0</td>\n",
              "      <td>5287.0</td>\n",
              "      <td>5424.0</td>\n",
              "      <td>1.0</td>\n",
              "      <td>0.053706</td>\n",
              "      <td>5174.472199</td>\n",
              "      <td>5127.665353</td>\n",
              "      <td>0.291127</td>\n",
              "    </tr>\n",
              "  </tbody>\n",
              "</table>\n",
              "<p>100 rows × 11 columns</p>\n",
              "</div>"
            ],
            "text/plain": [
              "                     run#          A  ...       corrAB  corrABB~\n",
              "2021-11-09 13:45:00     1  1528535.0  ...  4547.231204  0.360253\n",
              "2021-11-09 13:45:00     1  1528349.0  ...  4703.376378 -0.656690\n",
              "2021-11-09 13:45:00     1  1532386.0  ...  4706.968639  0.343043\n",
              "2021-11-09 13:45:00     1  1530540.0  ...  4676.009389  1.338810\n",
              "2021-11-09 13:45:00     1  1531396.0  ...  4711.003625  1.338887\n",
              "...                   ...        ...  ...          ...       ...\n",
              "2021-11-09 16:14:00    10  1558618.0  ...  5173.352545  1.257058\n",
              "2021-11-09 16:14:00    10  1574863.0  ...  5193.932005  1.229061\n",
              "2021-11-09 16:14:00    10  1550186.0  ...  5190.568464  0.270318\n",
              "2021-11-09 16:14:00    10  1540536.0  ...  5281.227520  2.271666\n",
              "2021-11-09 16:14:00    10  1540110.0  ...  5127.665353  0.291127\n",
              "\n",
              "[100 rows x 11 columns]"
            ]
          },
          "metadata": {},
          "execution_count": 16
        }
      ]
    },
    {
      "cell_type": "code",
      "metadata": {
        "id": "ZHaH6Obi3wAq"
      },
      "source": [
        "corrg2factor = (finaldf['A'].values * finaldf['corrABB~'].values) / (finaldf['corrAB'].values * finaldf['corrAB~'])\n",
        "finaldf.insert(11, 'corrg2', corrg2factor)"
      ],
      "execution_count": null,
      "outputs": []
    },
    {
      "cell_type": "code",
      "metadata": {
        "colab": {
          "base_uri": "https://localhost:8080/",
          "height": 423
        },
        "id": "5plNQRUh3StC",
        "outputId": "e52b1e60-bcf4-4029-945b-ffa33b5ded35"
      },
      "source": [
        "finaldf"
      ],
      "execution_count": null,
      "outputs": [
        {
          "output_type": "execute_result",
          "data": {
            "text/html": [
              "<div>\n",
              "<style scoped>\n",
              "    .dataframe tbody tr th:only-of-type {\n",
              "        vertical-align: middle;\n",
              "    }\n",
              "\n",
              "    .dataframe tbody tr th {\n",
              "        vertical-align: top;\n",
              "    }\n",
              "\n",
              "    .dataframe thead th {\n",
              "        text-align: right;\n",
              "    }\n",
              "</style>\n",
              "<table border=\"1\" class=\"dataframe\">\n",
              "  <thead>\n",
              "    <tr style=\"text-align: right;\">\n",
              "      <th></th>\n",
              "      <th>run#</th>\n",
              "      <th>A</th>\n",
              "      <th>B</th>\n",
              "      <th>B~</th>\n",
              "      <th>AB</th>\n",
              "      <th>AB~</th>\n",
              "      <th>ABB~</th>\n",
              "      <th>g2</th>\n",
              "      <th>corrAB~</th>\n",
              "      <th>corrAB</th>\n",
              "      <th>corrABB~</th>\n",
              "      <th>corrg2</th>\n",
              "    </tr>\n",
              "  </thead>\n",
              "  <tbody>\n",
              "    <tr>\n",
              "      <th>2021-11-09 13:45:00</th>\n",
              "      <td>1</td>\n",
              "      <td>1528535.0</td>\n",
              "      <td>783931.0</td>\n",
              "      <td>1222301.0</td>\n",
              "      <td>4707.0</td>\n",
              "      <td>4902.0</td>\n",
              "      <td>1.0</td>\n",
              "      <td>0.066246</td>\n",
              "      <td>4652.889352</td>\n",
              "      <td>4547.231204</td>\n",
              "      <td>0.360253</td>\n",
              "      <td>0.026026</td>\n",
              "    </tr>\n",
              "    <tr>\n",
              "      <th>2021-11-09 13:45:00</th>\n",
              "      <td>1</td>\n",
              "      <td>1528349.0</td>\n",
              "      <td>783314.0</td>\n",
              "      <td>1224215.0</td>\n",
              "      <td>4863.0</td>\n",
              "      <td>4975.0</td>\n",
              "      <td>0.0</td>\n",
              "      <td>0.000000</td>\n",
              "      <td>4725.529631</td>\n",
              "      <td>4703.376378</td>\n",
              "      <td>-0.656690</td>\n",
              "      <td>-0.045157</td>\n",
              "    </tr>\n",
              "    <tr>\n",
              "      <th>2021-11-09 13:45:00</th>\n",
              "      <td>1</td>\n",
              "      <td>1532386.0</td>\n",
              "      <td>783246.0</td>\n",
              "      <td>1225552.0</td>\n",
              "      <td>4867.0</td>\n",
              "      <td>4966.0</td>\n",
              "      <td>1.0</td>\n",
              "      <td>0.063402</td>\n",
              "      <td>4715.597503</td>\n",
              "      <td>4706.968639</td>\n",
              "      <td>0.343043</td>\n",
              "      <td>0.023683</td>\n",
              "    </tr>\n",
              "    <tr>\n",
              "      <th>2021-11-09 13:45:00</th>\n",
              "      <td>1</td>\n",
              "      <td>1530540.0</td>\n",
              "      <td>783991.0</td>\n",
              "      <td>1225831.0</td>\n",
              "      <td>4836.0</td>\n",
              "      <td>5089.0</td>\n",
              "      <td>2.0</td>\n",
              "      <td>0.124382</td>\n",
              "      <td>4838.842216</td>\n",
              "      <td>4676.009389</td>\n",
              "      <td>1.338810</td>\n",
              "      <td>0.090562</td>\n",
              "    </tr>\n",
              "    <tr>\n",
              "      <th>2021-11-09 13:45:00</th>\n",
              "      <td>1</td>\n",
              "      <td>1531396.0</td>\n",
              "      <td>783581.0</td>\n",
              "      <td>1225419.0</td>\n",
              "      <td>4871.0</td>\n",
              "      <td>5038.0</td>\n",
              "      <td>2.0</td>\n",
              "      <td>0.124808</td>\n",
              "      <td>4787.786433</td>\n",
              "      <td>4711.003625</td>\n",
              "      <td>1.338887</td>\n",
              "      <td>0.090904</td>\n",
              "    </tr>\n",
              "    <tr>\n",
              "      <th>...</th>\n",
              "      <td>...</td>\n",
              "      <td>...</td>\n",
              "      <td>...</td>\n",
              "      <td>...</td>\n",
              "      <td>...</td>\n",
              "      <td>...</td>\n",
              "      <td>...</td>\n",
              "      <td>...</td>\n",
              "      <td>...</td>\n",
              "      <td>...</td>\n",
              "      <td>...</td>\n",
              "      <td>...</td>\n",
              "    </tr>\n",
              "    <tr>\n",
              "      <th>2021-11-09 16:14:00</th>\n",
              "      <td>10</td>\n",
              "      <td>1558618.0</td>\n",
              "      <td>811524.0</td>\n",
              "      <td>1264279.0</td>\n",
              "      <td>5342.0</td>\n",
              "      <td>5410.0</td>\n",
              "      <td>2.0</td>\n",
              "      <td>0.107862</td>\n",
              "      <td>5147.262932</td>\n",
              "      <td>5173.352545</td>\n",
              "      <td>1.257058</td>\n",
              "      <td>0.073578</td>\n",
              "    </tr>\n",
              "    <tr>\n",
              "      <th>2021-11-09 16:14:00</th>\n",
              "      <td>10</td>\n",
              "      <td>1574863.0</td>\n",
              "      <td>824205.0</td>\n",
              "      <td>1296674.0</td>\n",
              "      <td>5367.0</td>\n",
              "      <td>5587.0</td>\n",
              "      <td>2.0</td>\n",
              "      <td>0.105042</td>\n",
              "      <td>5314.722146</td>\n",
              "      <td>5193.932005</td>\n",
              "      <td>1.229061</td>\n",
              "      <td>0.070120</td>\n",
              "    </tr>\n",
              "    <tr>\n",
              "      <th>2021-11-09 16:14:00</th>\n",
              "      <td>10</td>\n",
              "      <td>1550186.0</td>\n",
              "      <td>795541.0</td>\n",
              "      <td>1237986.0</td>\n",
              "      <td>5355.0</td>\n",
              "      <td>5425.0</td>\n",
              "      <td>1.0</td>\n",
              "      <td>0.053361</td>\n",
              "      <td>5169.118858</td>\n",
              "      <td>5190.568464</td>\n",
              "      <td>0.270318</td>\n",
              "      <td>0.015618</td>\n",
              "    </tr>\n",
              "    <tr>\n",
              "      <th>2021-11-09 16:14:00</th>\n",
              "      <td>10</td>\n",
              "      <td>1540536.0</td>\n",
              "      <td>777842.0</td>\n",
              "      <td>1216767.0</td>\n",
              "      <td>5441.0</td>\n",
              "      <td>5534.0</td>\n",
              "      <td>3.0</td>\n",
              "      <td>0.153488</td>\n",
              "      <td>5284.070218</td>\n",
              "      <td>5281.227520</td>\n",
              "      <td>2.271666</td>\n",
              "      <td>0.125404</td>\n",
              "    </tr>\n",
              "    <tr>\n",
              "      <th>2021-11-09 16:14:00</th>\n",
              "      <td>10</td>\n",
              "      <td>1540110.0</td>\n",
              "      <td>775925.0</td>\n",
              "      <td>1215146.0</td>\n",
              "      <td>5287.0</td>\n",
              "      <td>5424.0</td>\n",
              "      <td>1.0</td>\n",
              "      <td>0.053706</td>\n",
              "      <td>5174.472199</td>\n",
              "      <td>5127.665353</td>\n",
              "      <td>0.291127</td>\n",
              "      <td>0.016899</td>\n",
              "    </tr>\n",
              "  </tbody>\n",
              "</table>\n",
              "<p>100 rows × 12 columns</p>\n",
              "</div>"
            ],
            "text/plain": [
              "                     run#          A         B  ...       corrAB  corrABB~    corrg2\n",
              "2021-11-09 13:45:00     1  1528535.0  783931.0  ...  4547.231204  0.360253  0.026026\n",
              "2021-11-09 13:45:00     1  1528349.0  783314.0  ...  4703.376378 -0.656690 -0.045157\n",
              "2021-11-09 13:45:00     1  1532386.0  783246.0  ...  4706.968639  0.343043  0.023683\n",
              "2021-11-09 13:45:00     1  1530540.0  783991.0  ...  4676.009389  1.338810  0.090562\n",
              "2021-11-09 13:45:00     1  1531396.0  783581.0  ...  4711.003625  1.338887  0.090904\n",
              "...                   ...        ...       ...  ...          ...       ...       ...\n",
              "2021-11-09 16:14:00    10  1558618.0  811524.0  ...  5173.352545  1.257058  0.073578\n",
              "2021-11-09 16:14:00    10  1574863.0  824205.0  ...  5193.932005  1.229061  0.070120\n",
              "2021-11-09 16:14:00    10  1550186.0  795541.0  ...  5190.568464  0.270318  0.015618\n",
              "2021-11-09 16:14:00    10  1540536.0  777842.0  ...  5281.227520  2.271666  0.125404\n",
              "2021-11-09 16:14:00    10  1540110.0  775925.0  ...  5127.665353  0.291127  0.016899\n",
              "\n",
              "[100 rows x 12 columns]"
            ]
          },
          "metadata": {},
          "execution_count": 18
        }
      ]
    },
    {
      "cell_type": "code",
      "metadata": {
        "colab": {
          "base_uri": "https://localhost:8080/"
        },
        "id": "GO6rU7iQ9dFY",
        "outputId": "fedafd30-fdbb-4478-e078-64f9908313a8"
      },
      "source": [
        "print(np.mean(finaldf['corrg2'].values), np.mean(finaldf['g2'].values))\n",
        "print(np.std(finaldf['corrg2'].values), np.std(finaldf['g2'].values))\n",
        "\n",
        "g2mean = np.mean(finaldf['g2'].values)\n",
        "g2std = np.std(finaldf['g2'].values)\n",
        "corg2mean = np.mean(finaldf['corrg2'].values)\n",
        "corg2std = np.std(finaldf['corrg2'].values)"
      ],
      "execution_count": null,
      "outputs": [
        {
          "output_type": "stream",
          "name": "stdout",
          "text": [
            "0.053971483393538654 0.08837289671774967\n",
            "0.067359173997696 0.06217504457355821\n"
          ]
        }
      ]
    },
    {
      "cell_type": "code",
      "metadata": {
        "colab": {
          "base_uri": "https://localhost:8080/"
        },
        "id": "pGjWXNg98Oc1",
        "outputId": "a6be3e7b-ebbb-4682-f1f5-7e56a675ad23"
      },
      "source": [
        "finaldf['A'].values[0] * finaldf['AB'].values[0] / (finaldf['AB~'].values[0] * finaldf['ABB~'].values[0])\n",
        "finaldf['A'].values[0] * finaldf['corrAB~'].values[0]\n",
        "finaldf['corrAB'].values[0]"
      ],
      "execution_count": null,
      "outputs": [
        {
          "output_type": "execute_result",
          "data": {
            "text/plain": [
              "4547.231203855334"
            ]
          },
          "metadata": {},
          "execution_count": 34
        }
      ]
    },
    {
      "cell_type": "code",
      "metadata": {
        "colab": {
          "base_uri": "https://localhost:8080/",
          "height": 452
        },
        "id": "RURFBSYU36FP",
        "outputId": "e1d9ca8b-307b-4a69-9227-8864cc85e3d2"
      },
      "source": [
        "fig = plt.figure(figsize = (9, 6))\n",
        "plt.hist(finaldf['g2'].values)\n",
        "plt.title(f'Histogram of G2 Values \\n mean: {np.round(g2mean, 5)} \\n std: {np.round(g2std, 5)}')\n",
        "plt.ylabel('Count')\n",
        "plt.xlabel('G2 Value')"
      ],
      "execution_count": null,
      "outputs": [
        {
          "output_type": "execute_result",
          "data": {
            "text/plain": [
              "Text(0.5, 0, 'G2 Value')"
            ]
          },
          "metadata": {},
          "execution_count": 44
        },
        {
          "output_type": "display_data",
          "data": {
            "image/png": "[encoded data removed]",
            "text/plain": [
              "<Figure size 648x432 with 1 Axes>"
            ]
          },
          "metadata": {
            "needs_background": "light"
          }
        }
      ]
    },
    {
      "cell_type": "code",
      "metadata": {
        "colab": {
          "base_uri": "https://localhost:8080/",
          "height": 452
        },
        "id": "DZtGYxiYRNeI",
        "outputId": "75b4a87d-b614-4292-d6fa-bf4d351fc04a"
      },
      "source": [
        "fig = plt.figure(figsize = (9, 6))\n",
        "plt.hist(finaldf['corrg2'].values)\n",
        "plt.title(f'Histogram of Corrected G2 Values \\n mean: {np.round(corg2mean, 5)} \\n std: {np.round(corg2std, 5)}')\n",
        "plt.ylabel('Count')\n",
        "plt.xlabel('Corrected G2 Value')"
      ],
      "execution_count": null,
      "outputs": [
        {
          "output_type": "execute_result",
          "data": {
            "text/plain": [
              "Text(0.5, 0, 'Corrected G2 Value')"
            ]
          },
          "metadata": {},
          "execution_count": 47
        },
        {
          "output_type": "display_data",
          "data": {
            "image/png": "[encoded data removed]",
            "text/plain": [
              "<Figure size 648x432 with 1 Axes>"
            ]
          },
          "metadata": {
            "needs_background": "light"
          }
        }
      ]
    },
    {
      "cell_type": "code",
      "metadata": {
        "colab": {
          "base_uri": "https://localhost:8080/"
        },
        "id": "LFRsatVsQoRb",
        "outputId": "40475e90-7fee-4d68-b254-5922f55eb110"
      },
      "source": [
        ""
      ],
      "execution_count": null,
      "outputs": [
        {
          "output_type": "execute_result",
          "data": {
            "text/plain": [
              "0.08837289671774967"
            ]
          },
          "metadata": {},
          "execution_count": 30
        }
      ]
    },
    {
      "cell_type": "code",
      "metadata": {
        "colab": {
          "base_uri": "https://localhost:8080/",
          "height": 357
        },
        "id": "rQSkFXaUP75m",
        "outputId": "8b75a03f-5fb0-4a00-f423-97df07850681"
      },
      "source": [
        "plt.hist(finaldf['corrg2'].values)"
      ],
      "execution_count": null,
      "outputs": [
        {
          "output_type": "execute_result",
          "data": {
            "text/plain": [
              "(array([15., 31.,  5., 26.,  2., 15.,  2.,  2.,  1.,  1.]),\n",
              " array([-0.04515673, -0.01179085,  0.02157502,  0.0549409 ,  0.08830677,\n",
              "         0.12167265,  0.15503852,  0.1884044 ,  0.22177027,  0.25513615,\n",
              "         0.28850202]),\n",
              " <a list of 10 Patch objects>)"
            ]
          },
          "metadata": {},
          "execution_count": 25
        },
        {
          "output_type": "display_data",
          "data": {
            "image/png": "[encoded data removed]",
            "text/plain": [
              "<Figure size 432x288 with 1 Axes>"
            ]
          },
          "metadata": {
            "needs_background": "light"
          }
        }
      ]
    },
    {
      "cell_type": "code",
      "metadata": {
        "id": "zyeDL7JoNqcy"
      },
      "source": [
        "means = []\n",
        "stds = []\n",
        "for e in np.linspace(1, 10, 10):\n",
        "  means.append(np.mean(finaldf[finaldf['run#'] == e]['g2'].values))\n",
        "  stds.append(np.std(finaldf[finaldf['run#'] == e]['g2'].values))"
      ],
      "execution_count": null,
      "outputs": []
    },
    {
      "cell_type": "code",
      "metadata": {
        "colab": {
          "base_uri": "https://localhost:8080/",
          "height": 513
        },
        "id": "sm-zkT8qmEeH",
        "outputId": "82992847-1843-4129-9245-8cdb6afced17"
      },
      "source": [
        "fig = plt.figure()\n",
        "_ = plt.scatter(np.linspace(1, 10, 10), means)\n",
        "_ = plt.scatter(15, np.mean(finaldf['g2'].values))\n",
        "fig = plt.figure()\n",
        "_ = plt.scatter(np.linspace(1, 10, 10), stds)\n",
        "_ = plt.scatter(15, np.std(finaldf['g2'].values))"
      ],
      "execution_count": null,
      "outputs": [
        {
          "output_type": "display_data",
          "data": {
            "image/png": "[encoded data removed]",
            "text/plain": [
              "<Figure size 432x288 with 1 Axes>"
            ]
          },
          "metadata": {
            "needs_background": "light"
          }
        },
        {
          "output_type": "display_data",
          "data": {
            "image/png": "[encoded data removed]",
            "text/plain": [
              "<Figure size 432x288 with 1 Axes>"
            ]
          },
          "metadata": {
            "needs_background": "light"
          }
        }
      ]
    },
    {
      "cell_type": "code",
      "metadata": {
        "id": "DxemJN8JKa5X"
      },
      "source": [
        ""
      ],
      "execution_count": null,
      "outputs": []
    }
  ]
}