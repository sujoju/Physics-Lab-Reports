{
 "cells": [
  {
   "cell_type": "code",
   "execution_count": 1,
   "metadata": {},
   "outputs": [],
   "source": [
    "%matplotlib inline"
   ]
  },
  {
   "cell_type": "code",
   "execution_count": 2,
   "metadata": {},
   "outputs": [],
   "source": [
    "import matplotlib.pyplot as plt\n",
    "from scipy.signal import argrelextrema\n",
    "import pandas as pd\n",
    "import numpy as np\n",
    "from heapq import merge\n",
    "from scipy import interpolate"
   ]
  },
  {
   "cell_type": "code",
   "execution_count": 3,
   "metadata": {},
   "outputs": [
    {
     "name": "stdout",
     "output_type": "stream",
     "text": [
      "        time  voltage\n",
      "0    -0.2020    0.098\n",
      "1    -0.2018    0.084\n",
      "2    -0.2016    0.086\n",
      "3    -0.2014    0.094\n",
      "4    -0.2012    0.132\n",
      "...      ...      ...\n",
      "2495  0.2970    0.046\n",
      "2496  0.2972    0.046\n",
      "2497  0.2974    0.046\n",
      "2498  0.2976    0.044\n",
      "2499  0.2978    0.046\n",
      "\n",
      "[2500 rows x 2 columns]\n",
      "        time  voltage\n",
      "0    -0.2020     3.64\n",
      "1    -0.2018     3.64\n",
      "2    -0.2016     3.68\n",
      "3    -0.2014     3.68\n",
      "4    -0.2012     3.68\n",
      "...      ...      ...\n",
      "2495  0.2970     2.72\n",
      "2496  0.2972     2.72\n",
      "2497  0.2974     2.72\n",
      "2498  0.2976     2.72\n",
      "2499  0.2978     2.72\n",
      "\n",
      "[2500 rows x 2 columns]\n"
     ]
    }
   ],
   "source": [
    "import pandas as pd  \n",
    "df_CH1 = pd.read_csv('FSR//FSR_8//F0246CH1.csv', index_col=False, usecols=['time','voltage'])\n",
    "df_CH2 = pd.read_csv('FSR//FSR_8//F0246CH2.csv', index_col=False, usecols=['time','voltage'])\n",
    "print(df_CH1)\n",
    "print(df_CH2)"
   ]
  },
  {
   "cell_type": "code",
   "execution_count": 4,
   "metadata": {},
   "outputs": [
    {
     "data": {
      "text/plain": [
       "<AxesSubplot:xlabel='time'>"
      ]
     },
     "execution_count": 4,
     "metadata": {},
     "output_type": "execute_result"
    }
   ],
   "source": [
    "df_CH1.plot(x = \"time\", y = \"voltage\")\n",
    "df_CH2.plot(x = \"time\", y = \"voltage\")"
   ]
  },
  {
   "cell_type": "code",
   "execution_count": null,
   "metadata": {},
   "outputs": [],
   "source": [
    "def get_extrema(df, n):\n",
    "    df['max'] = df.iloc[argrelextrema(df.voltage.values, np.greater_equal, order=n)[0]]['voltage']\n",
    "    df['min'] = df.iloc[argrelextrema(df.voltage.values, np.less_equal, order=n)[0]]['voltage']\n",
    "\n",
    "get_extrema(df_CH1, 75)\n",
    "get_extrema(df_CH2, 50)"
   ]
  },
  {
   "cell_type": "code",
   "execution_count": 6,
   "metadata": {},
   "outputs": [
    {
     "name": "stdout",
     "output_type": "stream",
     "text": [
      "{'max': {'time': [-0.2, -0.1654, -0.1318, -0.0802, -0.046, -0.0072, 0.0342, 0.0802, 0.1204, 0.1604, 0.1974, 0.2362, 0.284], 'voltage': [0.158, 0.146, 0.168, 0.154, 0.18, 0.148, 0.148, 0.174, 0.162, 0.16, 0.176, 0.162, 0.182]}, 'min': {'time': [-0.1752, -0.1436, -0.0964, -0.0642, -0.0332, 0.021, 0.0542, 0.0942, 0.1316, 0.168, 0.2222, 0.2548, 0.2954], 'voltage': [0.044, 0.044, 0.042, 0.042, 0.044, 0.042, 0.044, 0.044, 0.044, 0.042, 0.042, 0.042, 0.044]}, 'extrema': {'time': [-0.2, -0.1752, -0.1654, -0.1436, -0.1318, -0.0964, -0.0802, -0.0642, -0.046, -0.0332, -0.0072, 0.021, 0.0342, 0.0542, 0.0802, 0.0942, 0.1204, 0.1316, 0.1604, 0.168, 0.1974, 0.2222, 0.2362, 0.2548, 0.284, 0.2954], 'voltage': [0.158, 0.044, 0.146, 0.044, 0.168, 0.042, 0.154, 0.042, 0.18, 0.044, 0.148, 0.042, 0.148, 0.044, 0.174, 0.044, 0.162, 0.044, 0.16, 0.042, 0.176, 0.042, 0.162, 0.042, 0.182, 0.044]}} {'max': {'time': [-0.2016, -0.0278, 0.1706, 0.2966], 'voltage': [3.68, 4.16, 4.12, 2.72]}, 'min': {'time': [-0.1308, 0.0702, 0.2698], 'voltage': [2.28, 2.28, 2.28]}, 'extrema': {'time': [-0.2016, -0.1308, -0.0278, 0.0702, 0.1706, 0.2698, 0.2966], 'voltage': [3.68, 2.28, 4.16, 2.28, 4.12, 2.28, 2.72]}}\n"
     ]
    }
   ],
   "source": [
    "def get_peak_values(df, peak_times):\n",
    "    peak_values = []\n",
    "    for i in peak_times: \n",
    "        peak_values.append(df.loc[df['time']== i, 'voltage'].values[0])\n",
    "    return peak_values\n",
    "\n",
    "def get_peak_times(df, extrema):\n",
    "    peak_times = []\n",
    "    for i in df.index:\n",
    "        if not np.isnan(df[extrema].values[i]):\n",
    "            peak_times.append(df[\"time\"].values[i])\n",
    "    return peak_times\n",
    "\n",
    "def omit_repeats(time_list):\n",
    "    new_time_list = []\n",
    "    new_time_list.append(time_list[0])\n",
    "    compared_value = time_list[0]\n",
    "    for value in time_list[1:]:\n",
    "        if np.abs(compared_value - value) > 0.02:\n",
    "            new_time_list.append(value)\n",
    "        compared_value = value\n",
    "    return new_time_list\n",
    "\n",
    "def mergeList(lst1, lst2):\n",
    "    return sorted(lst1 + lst2)\n",
    "\n",
    "def get_peak_info(df):\n",
    "    df_peak_info = {}\n",
    "    df_peak_info['max'] = {}\n",
    "    df_peak_info['min'] = {}\n",
    "    df_peak_info['extrema'] = {}\n",
    "    df_peak_info[\"max\"]['time'] = omit_repeats(get_peak_times(df, \"max\"))\n",
    "    df_peak_info['min']['time'] = omit_repeats(get_peak_times(df, \"min\"))\n",
    "    df_peak_info[\"max\"]['voltage'] = get_peak_values(df, df_peak_info[\"max\"]['time'])\n",
    "    df_peak_info['min']['voltage'] = get_peak_values(df, df_peak_info[\"min\"]['time'])\n",
    "    df_peak_info['extrema']['time'] = mergeList(df_peak_info[\"max\"]['time'], df_peak_info[\"min\"]['time'])\n",
    "    df_peak_info['extrema']['voltage'] = get_peak_values(df, df_peak_info['extrema']['time'])\n",
    "    return df_peak_info\n",
    "\n",
    "peak_info_CH1 = get_peak_info(df_CH1)\n",
    "peak_info_CH2 = get_peak_info(df_CH2)\n",
    "\n",
    "print(peak_info_CH1, peak_info_CH2)"
   ]
  },
  {
   "cell_type": "code",
   "execution_count": 7,
   "metadata": {},
   "outputs": [
    {
     "data": {
      "image/png": "[encoded data removed]",
      "text/plain": [
       "<Figure size 432x288 with 1 Axes>"
      ]
     },
     "metadata": {
      "needs_background": "light"
     },
     "output_type": "display_data"
    },
    {
     "data": {
      "image/png": "[encoded data removed]",
      "text/plain": [
       "<Figure size 432x288 with 1 Axes>"
      ]
     },
     "metadata": {
      "needs_background": "light"
     },
     "output_type": "display_data"
    }
   ],
   "source": [
    "plt.scatter(peak_info_CH1['max']['time'], peak_info_CH1['max']['voltage'], c='r')\n",
    "plt.scatter(peak_info_CH1['min']['time'], peak_info_CH1['min']['voltage'], c='b')\n",
    "plt.plot(df_CH1[\"time\"], df_CH1['voltage'])\n",
    "plt.show()\n",
    "plt.scatter(peak_info_CH2['max']['time'], peak_info_CH2['max']['voltage'], c='r')\n",
    "plt.scatter(peak_info_CH2['min']['time'], peak_info_CH2['min']['voltage'], c='b')\n",
    "plt.plot(df_CH2[\"time\"], df_CH2['voltage'])\n",
    "plt.show()"
   ]
  },
  {
   "cell_type": "code",
   "execution_count": 8,
   "metadata": {},
   "outputs": [
    {
     "name": "stdout",
     "output_type": "stream",
     "text": [
      "{1: [3.6, 2.96, 2.32], 2: [3.12, 3.8], 3: [3.76, 3.0], 4: [2.4, 3.16, 3.92], 5: [3.68, 2.92], 6: [2.44]}\n"
     ]
    }
   ],
   "source": [
    "voltages_per_halfcycle = {}\n",
    "for i in range(1, len(peak_info_CH2['extrema']['time'])):\n",
    "    voltages_per_halfcycle[i] = []\n",
    "    for j in peak_info_CH1['max']['time']:\n",
    "        if peak_info_CH2['extrema']['time'][i-1] <= j <= peak_info_CH2['extrema']['time'][i]:\n",
    "            voltage = df_CH2.loc[df_CH2['time']== j, 'voltage'].values[0]\n",
    "            voltages_per_halfcycle[i].append(voltage)\n",
    "print(voltages_per_halfcycle)\n",
    "            "
   ]
  },
  {
   "cell_type": "code",
   "execution_count": 9,
   "metadata": {},
   "outputs": [
    {
     "data": {
      "text/plain": [
       "array([-0.64, -0.64,  0.68, -0.76,  0.76,  0.76, -0.76])"
      ]
     },
     "execution_count": 9,
     "metadata": {},
     "output_type": "execute_result"
    }
   ],
   "source": [
    "voltage_diff_between_peaks = np.array([])\n",
    "for voltages_dict in voltages_per_halfcycle.values():\n",
    "    voltage_diff_between_peaks = np.concatenate([voltage_diff_between_peaks, np.diff(voltages_dict)])\n",
    "voltage_diff_between_peaks"
   ]
  },
  {
   "cell_type": "code",
   "execution_count": 10,
   "metadata": {},
   "outputs": [
    {
     "name": "stdout",
     "output_type": "stream",
     "text": [
      "428.57142857142856 32.526284504589036\n"
     ]
    }
   ],
   "source": [
    "calculated_deltaL = np.abs(600*voltage_diff_between_peaks)\n",
    "\n",
    "calculated_deltaL_mean = np.mean(calculated_deltaL)\n",
    "calculated_deltaL_std = np.std(calculated_deltaL)\n",
    "\n",
    "print(calculated_deltaL_mean, calculated_deltaL_std)"
   ]
  },
  {
   "cell_type": "code",
   "execution_count": 11,
   "metadata": {},
   "outputs": [
    {
     "name": "stdout",
     "output_type": "stream",
     "text": [
      "6.674630926185237 3.178998152882671\n"
     ]
    }
   ],
   "source": [
    "def get_min_times(max_time):\n",
    "    min_info = {'left':{}, 'right':{}}\n",
    "    for j in range(0, len(peak_info_CH1['extrema']['time'])):\n",
    "            if peak_info_CH1['extrema']['time'][j] == max_time:\n",
    "                min_info['left']['voltage'] = peak_info_CH1['extrema']['voltage'][j - 1]\n",
    "                min_info['left']['time'] = peak_info_CH1['extrema']['time'][j - 1]\n",
    "                min_info['right']['voltage'] = peak_info_CH1['extrema']['voltage'][j + 1]\n",
    "                min_info['right']['time'] = peak_info_CH1['extrema']['time'][j + 1]\n",
    "    return min_info \n",
    "\n",
    "def find_width_value(i):\n",
    "    avg_peak_value = None\n",
    "    max_time = peak_info_CH1['max']['time'][i]\n",
    "    max_value = peak_info_CH1['max']['voltage'][i]\n",
    "    min_info = get_min_times(max_time)\n",
    "    left_min = min_info['left']['voltage']\n",
    "    right_min = min_info['right']['voltage']\n",
    "    avg_peak_value = ((max_value - left_min) + (max_value - right_min))/2\n",
    "    width_value = 0.5*avg_peak_value + (left_min + right_min)/2\n",
    "    return width_value\n",
    "\n",
    "def get_width_value_time(left_max_time, max_time, right_max_time, width_voltage):\n",
    "    interpolated_data = interpolate.interp1d(df_CH1['time'].values, df_CH1['voltage'].values)\n",
    "    interval_left = np.linspace(left_max_time, max_time, 5000)\n",
    "    interval_right = np.linspace(max_time, right_max_time, 5000)\n",
    "    left_width_time = None\n",
    "    right_width_time = None\n",
    "    for x in interval_left:\n",
    "        if np.abs(interpolated_data(x) - width_voltage) < 0.001:\n",
    "            left_width_time = x \n",
    "            break \n",
    "    for x in np.flip(interval_right):\n",
    "        if np.abs(interpolated_data(x) - width_voltage) < 0.001:\n",
    "            right_width_time = x \n",
    "            break \n",
    "    width_voltage_time = np.abs(left_width_time - right_width_time)\n",
    "    return width_voltage_time\n",
    "            \n",
    "width_times = []\n",
    "for i in range(1, len(peak_info_CH1['max']['time']) - 1):\n",
    "    width_voltage = find_width_value(i)\n",
    "    max_time = peak_info_CH1['max']['time'][i]\n",
    "    min_info = get_min_times(max_time)\n",
    "    left_min_time = min_info['left']['time']\n",
    "    right_min_time = min_info['right']['time']\n",
    "    width_times.append(get_width_value_time(left_min_time, max_time, right_min_time, width_voltage))\n",
    "\n",
    "calculated_width_time_mean = 600*np.mean(width_times)\n",
    "calculated_width_time_std = 600*np.std(width_times)\n",
    "\n",
    "print(calculated_width_time_mean, calculated_width_time_std)"
   ]
  },
  {
   "cell_type": "code",
   "execution_count": 12,
   "metadata": {},
   "outputs": [
    {
     "data": {
      "text/plain": [
       "array([57.5312709 , 57.5312709 , 61.12697534, 68.3183842 , 68.3183842 ,\n",
       "       68.3183842 , 68.3183842 ])"
      ]
     },
     "execution_count": 12,
     "metadata": {},
     "output_type": "execute_result"
    }
   ],
   "source": [
    "calculated_deltaL/calculated_width_time_mean"
   ]
  },
  {
   "cell_type": "code",
   "execution_count": null,
   "metadata": {},
   "outputs": [],
   "source": []
  }
 ],
 "metadata": {
  "interpreter": {
   "hash": "857b2b6bdbee2871d3f2bcf74449968dd9eaf2d85fcef563fc51e4452a59bad9"
  },
  "kernelspec": {
   "display_name": "Python 3.8.12 64-bit ('base': conda)",
   "name": "python3"
  },
  "language_info": {
   "codemirror_mode": {
    "name": "ipython",
    "version": 3
   },
   "file_extension": ".py",
   "mimetype": "text/x-python",
   "name": "python",
   "nbconvert_exporter": "python",
   "pygments_lexer": "ipython3",
   "version": "3.8.12"
  }
 },
 "nbformat": 4,
 "nbformat_minor": 5
}
